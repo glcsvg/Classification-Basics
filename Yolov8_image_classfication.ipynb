{
  "nbformat": 4,
  "nbformat_minor": 0,
  "metadata": {
    "colab": {
      "provenance": [],
      "toc_visible": true,
      "gpuType": "T4"
    },
    "kernelspec": {
      "name": "python3",
      "display_name": "Python 3"
    },
    "language_info": {
      "name": "python"
    },
    "accelerator": "GPU"
  },
  "cells": [
    {
      "cell_type": "code",
      "execution_count": 1,
      "metadata": {
        "colab": {
          "base_uri": "https://localhost:8080/"
        },
        "id": "fco62yOCHhFF",
        "outputId": "e78fa84d-598a-4919-87f6-0776eb9b8594"
      },
      "outputs": [
        {
          "output_type": "stream",
          "name": "stdout",
          "text": [
            "Mounted at /content/drive\n"
          ]
        }
      ],
      "source": [
        "from google.colab import drive\n",
        "drive.mount('/content/drive')"
      ]
    },
    {
      "cell_type": "code",
      "source": [
        "%cd /content/drive/MyDrive/AI/classication/\n"
      ],
      "metadata": {
        "colab": {
          "base_uri": "https://localhost:8080/"
        },
        "id": "0xOR3yXuHrZo",
        "outputId": "dfa52ce0-23b7-4005-bd70-d519d91dc8cb"
      },
      "execution_count": 2,
      "outputs": [
        {
          "output_type": "stream",
          "name": "stdout",
          "text": [
            "/content/drive/MyDrive/AI/classication\n"
          ]
        }
      ]
    },
    {
      "cell_type": "code",
      "source": [
        "#!mv $(ls | grep '\\.jpeg' | head -10) /content/drive/MyDrive/AI/classication/chest_xray/val/PNEUMONIA/\n"
      ],
      "metadata": {
        "id": "je1FssOu0PfU"
      },
      "execution_count": null,
      "outputs": []
    },
    {
      "cell_type": "code",
      "source": [
        "!pip install ultralytics\n"
      ],
      "metadata": {
        "id": "y_oxPT4rHvj8"
      },
      "execution_count": null,
      "outputs": []
    },
    {
      "cell_type": "code",
      "source": [
        "!pip install clearml\n",
        "import clearml\n",
        "clearml.browser_login()\n"
      ],
      "metadata": {
        "id": "D05vNb5iSnAf"
      },
      "execution_count": null,
      "outputs": []
    },
    {
      "cell_type": "code",
      "source": [
        "# import YOLO model\n",
        "from ultralytics import YOLO\n",
        "\n",
        "# Load a model\n",
        "model = YOLO('yolov8n-cls.pt') # load a pretrained model (recommended for training)\n",
        "\n",
        "# Train the model\n",
        "model.train(data='/content/drive/MyDrive/AI/classication/min_chestxray', epochs=5,imgsz=64,batch=16,patience=30,optimizer='Adam',cache=True)"
      ],
      "metadata": {
        "colab": {
          "base_uri": "https://localhost:8080/",
          "height": 1000
        },
        "id": "S45EM3jEHvm3",
        "outputId": "ab41bcff-debe-407d-cf11-f4cd0a0434a9"
      },
      "execution_count": 9,
      "outputs": [
        {
          "output_type": "stream",
          "name": "stdout",
          "text": [
            "Ultralytics YOLOv8.0.231 🚀 Python-3.10.12 torch-2.1.0+cu121 CUDA:0 (Tesla T4, 15102MiB)\n",
            "\u001b[34m\u001b[1mengine/trainer: \u001b[0mtask=classify, mode=train, model=yolov8n-cls.pt, data=/content/drive/MyDrive/AI/classication/min_chestxray, epochs=5, time=None, patience=30, batch=16, imgsz=64, save=True, save_period=-1, cache=True, device=None, workers=8, project=None, name=train4, exist_ok=False, pretrained=True, optimizer=Adam, verbose=True, seed=0, deterministic=True, single_cls=False, rect=False, cos_lr=False, close_mosaic=10, resume=False, amp=True, fraction=1.0, profile=False, freeze=None, overlap_mask=True, mask_ratio=4, dropout=0.0, val=True, split=val, save_json=False, save_hybrid=False, conf=None, iou=0.7, max_det=300, half=False, dnn=False, plots=True, source=None, vid_stride=1, stream_buffer=False, visualize=False, augment=False, agnostic_nms=False, classes=None, retina_masks=False, embed=None, show=False, save_frames=False, save_txt=False, save_conf=False, save_crop=False, show_labels=True, show_conf=True, show_boxes=True, line_width=None, format=torchscript, keras=False, optimize=False, int8=False, dynamic=False, simplify=False, opset=None, workspace=4, nms=False, lr0=0.01, lrf=0.01, momentum=0.937, weight_decay=0.0005, warmup_epochs=3.0, warmup_momentum=0.8, warmup_bias_lr=0.1, box=7.5, cls=0.5, dfl=1.5, pose=12.0, kobj=1.0, label_smoothing=0.0, nbs=64, hsv_h=0.015, hsv_s=0.7, hsv_v=0.4, degrees=0.0, translate=0.1, scale=0.5, shear=0.0, perspective=0.0, flipud=0.0, fliplr=0.5, mosaic=1.0, mixup=0.0, copy_paste=0.0, cfg=None, tracker=botsort.yaml, save_dir=runs/classify/train4\n",
            "\u001b[34m\u001b[1mtrain:\u001b[0m /content/drive/MyDrive/AI/classication/min_chestxray/train... found 2000 images in 2 classes ✅ \n",
            "\u001b[34m\u001b[1mval:\u001b[0m /content/drive/MyDrive/AI/classication/min_chestxray/val... found 200 images in 2 classes ✅ \n",
            "\u001b[34m\u001b[1mtest:\u001b[0m /content/drive/MyDrive/AI/classication/min_chestxray/test... found 20 images in 2 classes ✅ \n",
            "Overriding model.yaml nc=1000 with nc=2\n",
            "\n",
            "                   from  n    params  module                                       arguments                     \n",
            "  0                  -1  1       464  ultralytics.nn.modules.conv.Conv             [3, 16, 3, 2]                 \n",
            "  1                  -1  1      4672  ultralytics.nn.modules.conv.Conv             [16, 32, 3, 2]                \n",
            "  2                  -1  1      7360  ultralytics.nn.modules.block.C2f             [32, 32, 1, True]             \n",
            "  3                  -1  1     18560  ultralytics.nn.modules.conv.Conv             [32, 64, 3, 2]                \n",
            "  4                  -1  2     49664  ultralytics.nn.modules.block.C2f             [64, 64, 2, True]             \n",
            "  5                  -1  1     73984  ultralytics.nn.modules.conv.Conv             [64, 128, 3, 2]               \n",
            "  6                  -1  2    197632  ultralytics.nn.modules.block.C2f             [128, 128, 2, True]           \n",
            "  7                  -1  1    295424  ultralytics.nn.modules.conv.Conv             [128, 256, 3, 2]              \n",
            "  8                  -1  1    460288  ultralytics.nn.modules.block.C2f             [256, 256, 1, True]           \n",
            "  9                  -1  1    332802  ultralytics.nn.modules.head.Classify         [256, 2]                      \n",
            "YOLOv8n-cls summary: 99 layers, 1440850 parameters, 1440850 gradients, 3.4 GFLOPs\n",
            "Transferred 156/158 items from pretrained weights\n",
            "\u001b[34m\u001b[1mTensorBoard: \u001b[0mStart with 'tensorboard --logdir runs/classify/train4', view at http://localhost:6006/\n",
            "\u001b[34m\u001b[1mAMP: \u001b[0mrunning Automatic Mixed Precision (AMP) checks with YOLOv8n...\n",
            "\u001b[34m\u001b[1mAMP: \u001b[0mchecks passed ✅\n"
          ]
        },
        {
          "output_type": "stream",
          "name": "stderr",
          "text": [
            "\u001b[34m\u001b[1mtrain: \u001b[0mScanning /content/drive/MyDrive/AI/classication/min_chestxray/train... 2000 images, 0 corrupt: 100%|██████████| 2000/2000 [11:25<00:00,  2.92it/s]\n"
          ]
        },
        {
          "output_type": "stream",
          "name": "stdout",
          "text": [
            "\u001b[34m\u001b[1mtrain: \u001b[0mNew cache created: /content/drive/MyDrive/AI/classication/min_chestxray/train.cache\n",
            "\u001b[34m\u001b[1malbumentations: \u001b[0mRandomResizedCrop(p=1.0, height=64, width=64, scale=(0.5, 1.0), ratio=(0.75, 1.3333333333333333), interpolation=1), HorizontalFlip(p=0.5), ColorJitter(p=0.5, brightness=[0.6, 1.4], contrast=[0.6, 1.4], saturation=[0.30000000000000004, 1.7], hue=[-0.015, 0.015]), Normalize(p=1.0, mean=(0.0, 0.0, 0.0), std=(1.0, 1.0, 1.0), max_pixel_value=255.0), ToTensorV2(always_apply=True, p=1.0, transpose_mask=False)\n"
          ]
        },
        {
          "output_type": "stream",
          "name": "stderr",
          "text": [
            "\u001b[34m\u001b[1mval: \u001b[0mScanning /content/drive/MyDrive/AI/classication/min_chestxray/val... 200 images, 0 corrupt: 100%|██████████| 200/200 [01:25<00:00,  2.33it/s]"
          ]
        },
        {
          "output_type": "stream",
          "name": "stdout",
          "text": [
            "\u001b[34m\u001b[1mval: \u001b[0mNew cache created: /content/drive/MyDrive/AI/classication/min_chestxray/val.cache\n"
          ]
        },
        {
          "output_type": "stream",
          "name": "stderr",
          "text": [
            "\n"
          ]
        },
        {
          "output_type": "stream",
          "name": "stdout",
          "text": [
            "\u001b[34m\u001b[1moptimizer:\u001b[0m Adam(lr=0.01, momentum=0.937) with parameter groups 26 weight(decay=0.0), 27 weight(decay=0.0005), 27 bias(decay=0.0)\n",
            "5 epochs...\n",
            "\n",
            "      Epoch    GPU_mem       loss  Instances       Size\n"
          ]
        },
        {
          "output_type": "stream",
          "name": "stderr",
          "text": [
            "        1/5     0.424G     0.6173         16         64:   6%|▋         | 8/125 [00:03<00:43,  2.66it/s]"
          ]
        },
        {
          "output_type": "stream",
          "name": "stdout",
          "text": [
            "Downloading https://ultralytics.com/assets/Arial.ttf to '/root/.config/Ultralytics/Arial.ttf'...\n"
          ]
        },
        {
          "output_type": "stream",
          "name": "stderr",
          "text": [
            "        1/5     0.424G      0.542         16         64:  12%|█▏        | 15/125 [00:06<00:41,  2.63it/s]\n",
            "100%|██████████| 755k/755k [00:00<00:00, 85.7MB/s]\n",
            "        1/5     0.424G     0.3995         16         64: 100%|██████████| 125/125 [00:47<00:00,  2.63it/s]\n",
            "               classes   top1_acc   top5_acc: 100%|██████████| 7/7 [00:02<00:00,  2.74it/s]"
          ]
        },
        {
          "output_type": "stream",
          "name": "stdout",
          "text": [
            "                   all      0.865          1\n"
          ]
        },
        {
          "output_type": "stream",
          "name": "stderr",
          "text": [
            "\n"
          ]
        },
        {
          "output_type": "stream",
          "name": "stdout",
          "text": [
            "\n",
            "      Epoch    GPU_mem       loss  Instances       Size\n"
          ]
        },
        {
          "output_type": "stream",
          "name": "stderr",
          "text": [
            "        2/5     0.407G     0.3236         16         64: 100%|██████████| 125/125 [00:43<00:00,  2.90it/s]\n",
            "               classes   top1_acc   top5_acc: 100%|██████████| 7/7 [00:01<00:00,  3.57it/s]"
          ]
        },
        {
          "output_type": "stream",
          "name": "stdout",
          "text": [
            "                   all      0.885          1\n"
          ]
        },
        {
          "output_type": "stream",
          "name": "stderr",
          "text": [
            "\n"
          ]
        },
        {
          "output_type": "stream",
          "name": "stdout",
          "text": [
            "\n",
            "      Epoch    GPU_mem       loss  Instances       Size\n"
          ]
        },
        {
          "output_type": "stream",
          "name": "stderr",
          "text": [
            "        3/5     0.407G      0.306         16         64: 100%|██████████| 125/125 [00:42<00:00,  2.93it/s]\n",
            "               classes   top1_acc   top5_acc: 100%|██████████| 7/7 [00:02<00:00,  2.91it/s]"
          ]
        },
        {
          "output_type": "stream",
          "name": "stdout",
          "text": [
            "                   all       0.91          1\n"
          ]
        },
        {
          "output_type": "stream",
          "name": "stderr",
          "text": [
            "\n"
          ]
        },
        {
          "output_type": "stream",
          "name": "stdout",
          "text": [
            "\n",
            "      Epoch    GPU_mem       loss  Instances       Size\n"
          ]
        },
        {
          "output_type": "stream",
          "name": "stderr",
          "text": [
            "        4/5     0.407G     0.2423         16         64: 100%|██████████| 125/125 [00:45<00:00,  2.75it/s]\n",
            "               classes   top1_acc   top5_acc: 100%|██████████| 7/7 [00:02<00:00,  2.80it/s]"
          ]
        },
        {
          "output_type": "stream",
          "name": "stdout",
          "text": [
            "                   all       0.93          1\n"
          ]
        },
        {
          "output_type": "stream",
          "name": "stderr",
          "text": [
            "\n"
          ]
        },
        {
          "output_type": "stream",
          "name": "stdout",
          "text": [
            "\n",
            "      Epoch    GPU_mem       loss  Instances       Size\n"
          ]
        },
        {
          "output_type": "stream",
          "name": "stderr",
          "text": [
            "        5/5     0.407G     0.2087         16         64: 100%|██████████| 125/125 [00:50<00:00,  2.49it/s]\n",
            "               classes   top1_acc   top5_acc: 100%|██████████| 7/7 [00:02<00:00,  3.46it/s]"
          ]
        },
        {
          "output_type": "stream",
          "name": "stdout",
          "text": [
            "                   all      0.935          1\n"
          ]
        },
        {
          "output_type": "stream",
          "name": "stderr",
          "text": [
            "\n"
          ]
        },
        {
          "output_type": "stream",
          "name": "stdout",
          "text": [
            "\n",
            "5 epochs completed in 0.068 hours.\n",
            "Optimizer stripped from runs/classify/train4/weights/last.pt, 3.0MB\n",
            "Optimizer stripped from runs/classify/train4/weights/best.pt, 3.0MB\n",
            "\n",
            "Validating runs/classify/train4/weights/best.pt...\n",
            "Ultralytics YOLOv8.0.231 🚀 Python-3.10.12 torch-2.1.0+cu121 CUDA:0 (Tesla T4, 15102MiB)\n",
            "YOLOv8n-cls summary (fused): 73 layers, 1437442 parameters, 0 gradients, 3.3 GFLOPs\n",
            "\u001b[34m\u001b[1mtrain:\u001b[0m /content/drive/MyDrive/AI/classication/min_chestxray/train... found 2000 images in 2 classes ✅ \n",
            "\u001b[34m\u001b[1mval:\u001b[0m /content/drive/MyDrive/AI/classication/min_chestxray/val... found 200 images in 2 classes ✅ \n",
            "\u001b[34m\u001b[1mtest:\u001b[0m /content/drive/MyDrive/AI/classication/min_chestxray/test... found 20 images in 2 classes ✅ \n"
          ]
        },
        {
          "output_type": "stream",
          "name": "stderr",
          "text": [
            "               classes   top1_acc   top5_acc: 100%|██████████| 7/7 [00:02<00:00,  3.16it/s]\n"
          ]
        },
        {
          "output_type": "stream",
          "name": "stdout",
          "text": [
            "                   all      0.935          1\n",
            "Speed: 0.0ms preprocess, 0.5ms inference, 0.0ms loss, 0.0ms postprocess per image\n",
            "Results saved to \u001b[1mruns/classify/train4\u001b[0m\n",
            "Results saved to \u001b[1mruns/classify/train4\u001b[0m\n"
          ]
        },
        {
          "output_type": "execute_result",
          "data": {
            "text/plain": [
              "ultralytics.utils.metrics.ClassifyMetrics object with attributes:\n",
              "\n",
              "confusion_matrix: <ultralytics.utils.metrics.ConfusionMatrix object at 0x7c4a3b0e9b70>\n",
              "curves: []\n",
              "curves_results: []\n",
              "fitness: 0.9675000011920929\n",
              "keys: ['metrics/accuracy_top1', 'metrics/accuracy_top5']\n",
              "results_dict: {'metrics/accuracy_top1': 0.9350000023841858, 'metrics/accuracy_top5': 1.0, 'fitness': 0.9675000011920929}\n",
              "save_dir: Path('runs/classify/train4')\n",
              "speed: {'preprocess': 0.01233220100402832, 'inference': 0.5190551280975342, 'loss': 0.0006687641143798828, 'postprocess': 0.0005400180816650391}\n",
              "task: 'classify'\n",
              "top1: 0.9350000023841858\n",
              "top5: 1.0"
            ]
          },
          "metadata": {},
          "execution_count": 9
        },
        {
          "output_type": "display_data",
          "data": {
            "text/plain": [
              "<Figure size 640x480 with 1 Axes>"
            ],
            "image/png": "[encoded data removed]"
          },
          "metadata": {}
        },
        {
          "output_type": "stream",
          "name": "stdout",
          "text": [
            "2024-01-01 14:47:43,635 - clearml.Task - INFO - Completed model upload to https://files.clear.ml/YOLOv8/train.3bae3abe5c07411f9df56e05187abd73/models/best.pt\n"
          ]
        },
        {
          "output_type": "display_data",
          "data": {
            "text/plain": [
              "<Figure size 640x480 with 1 Axes>"
            ],
            "image/png": "[encoded data removed]"
          },
          "metadata": {}
        },
        {
          "output_type": "display_data",
          "data": {
            "text/plain": [
              "<Figure size 640x480 with 1 Axes>"
            ],
            "image/png": "[encoded data removed]"
          },
          "metadata": {}
        }
      ]
    },
    {
      "cell_type": "code",
      "source": [
        "import torch\n",
        "from ultralytics import YOLO\n",
        "\n",
        "model = YOLO('./runs/classify/train4/weights/best.pt')  # load a custom model\n"
      ],
      "metadata": {
        "id": "9gf2gzu2wznp"
      },
      "execution_count": 10,
      "outputs": []
    },
    {
      "cell_type": "code",
      "source": [
        "results = model.predict(\"/content/drive/MyDrive/AI/classication/min_chestxray/test/NORMAL/\")\n",
        "print(results)\n"
      ],
      "metadata": {
        "colab": {
          "base_uri": "https://localhost:8080/"
        },
        "id": "HzHsfsWnHvs3",
        "outputId": "7f4e7fca-6d0a-46ab-9b33-c52c06dc8cd0"
      },
      "execution_count": 14,
      "outputs": [
        {
          "output_type": "stream",
          "name": "stdout",
          "text": [
            "\n",
            "image 1/10 /content/drive/MyDrive/AI/classication/min_chestxray/test/NORMAL/IM-0115-0001.jpeg: 64x64 NORMAL 1.00, PNEUMONIA 0.00, 5.6ms\n",
            "image 2/10 /content/drive/MyDrive/AI/classication/min_chestxray/test/NORMAL/IM-0117-0001.jpeg: 64x64 NORMAL 1.00, PNEUMONIA 0.00, 5.6ms\n",
            "image 3/10 /content/drive/MyDrive/AI/classication/min_chestxray/test/NORMAL/IM-0119-0001.jpeg: 64x64 NORMAL 1.00, PNEUMONIA 0.00, 3.1ms\n",
            "image 4/10 /content/drive/MyDrive/AI/classication/min_chestxray/test/NORMAL/IM-0122-0001.jpeg: 64x64 NORMAL 1.00, PNEUMONIA 0.00, 3.1ms\n",
            "image 5/10 /content/drive/MyDrive/AI/classication/min_chestxray/test/NORMAL/IM-0125-0001.jpeg: 64x64 NORMAL 1.00, PNEUMONIA 0.00, 3.6ms\n",
            "image 6/10 /content/drive/MyDrive/AI/classication/min_chestxray/test/NORMAL/IM-0127-0001.jpeg: 64x64 NORMAL 1.00, PNEUMONIA 0.00, 6.8ms\n",
            "image 7/10 /content/drive/MyDrive/AI/classication/min_chestxray/test/NORMAL/IM-0128-0001.jpeg: 64x64 NORMAL 1.00, PNEUMONIA 0.00, 7.0ms\n",
            "image 8/10 /content/drive/MyDrive/AI/classication/min_chestxray/test/NORMAL/IM-0129-0001.jpeg: 64x64 NORMAL 1.00, PNEUMONIA 0.00, 3.2ms\n",
            "image 9/10 /content/drive/MyDrive/AI/classication/min_chestxray/test/NORMAL/IM-0131-0001.jpeg: 64x64 NORMAL 1.00, PNEUMONIA 0.00, 3.1ms\n",
            "image 10/10 /content/drive/MyDrive/AI/classication/min_chestxray/test/NORMAL/IM-0133-0001.jpeg: 64x64 NORMAL 1.00, PNEUMONIA 0.00, 3.2ms\n",
            "Speed: 0.6ms preprocess, 4.4ms inference, 0.1ms postprocess per image at shape (1, 3, 64, 64)\n",
            "[ultralytics.engine.results.Results object with attributes:\n",
            "\n",
            "boxes: None\n",
            "keypoints: None\n",
            "masks: None\n",
            "names: {0: 'NORMAL', 1: 'PNEUMONIA'}\n",
            "orig_img: array([[[ 22,  22,  22],\n",
            "        [ 24,  24,  24],\n",
            "        [ 24,  24,  24],\n",
            "        ...,\n",
            "        [ 96,  96,  96],\n",
            "        [ 94,  94,  94],\n",
            "        [ 93,  93,  93]],\n",
            "\n",
            "       [[ 23,  23,  23],\n",
            "        [ 24,  24,  24],\n",
            "        [ 24,  24,  24],\n",
            "        ...,\n",
            "        [ 97,  97,  97],\n",
            "        [ 94,  94,  94],\n",
            "        [ 92,  92,  92]],\n",
            "\n",
            "       [[ 24,  24,  24],\n",
            "        [ 24,  24,  24],\n",
            "        [ 23,  23,  23],\n",
            "        ...,\n",
            "        [ 99,  99,  99],\n",
            "        [ 96,  96,  96],\n",
            "        [ 94,  94,  94]],\n",
            "\n",
            "       ...,\n",
            "\n",
            "       [[ 49,  49,  49],\n",
            "        [ 50,  50,  50],\n",
            "        [ 48,  48,  48],\n",
            "        ...,\n",
            "        [119, 119, 119],\n",
            "        [119, 119, 119],\n",
            "        [119, 119, 119]],\n",
            "\n",
            "       [[ 50,  50,  50],\n",
            "        [ 52,  52,  52],\n",
            "        [ 53,  53,  53],\n",
            "        ...,\n",
            "        [123, 123, 123],\n",
            "        [124, 124, 124],\n",
            "        [123, 123, 123]],\n",
            "\n",
            "       [[ 52,  52,  52],\n",
            "        [ 53,  53,  53],\n",
            "        [ 54,  54,  54],\n",
            "        ...,\n",
            "        [129, 129, 129],\n",
            "        [128, 128, 128],\n",
            "        [127, 127, 127]]], dtype=uint8)\n",
            "orig_shape: (1858, 2090)\n",
            "path: '/content/drive/MyDrive/AI/classication/min_chestxray/test/NORMAL/IM-0115-0001.jpeg'\n",
            "probs: ultralytics.engine.results.Probs object\n",
            "save_dir: None\n",
            "speed: {'preprocess': 0.9148120880126953, 'inference': 5.6438446044921875, 'postprocess': 0.07700920104980469}, ultralytics.engine.results.Results object with attributes:\n",
            "\n",
            "boxes: None\n",
            "keypoints: None\n",
            "masks: None\n",
            "names: {0: 'NORMAL', 1: 'PNEUMONIA'}\n",
            "orig_img: array([[[11, 11, 11],\n",
            "        [11, 11, 11],\n",
            "        [15, 15, 15],\n",
            "        ...,\n",
            "        [17, 17, 17],\n",
            "        [16, 16, 16],\n",
            "        [15, 15, 15]],\n",
            "\n",
            "       [[ 9,  9,  9],\n",
            "        [10, 10, 10],\n",
            "        [14, 14, 14],\n",
            "        ...,\n",
            "        [17, 17, 17],\n",
            "        [15, 15, 15],\n",
            "        [13, 13, 13]],\n",
            "\n",
            "       [[ 8,  8,  8],\n",
            "        [10, 10, 10],\n",
            "        [14, 14, 14],\n",
            "        ...,\n",
            "        [18, 18, 18],\n",
            "        [16, 16, 16],\n",
            "        [15, 15, 15]],\n",
            "\n",
            "       ...,\n",
            "\n",
            "       [[ 0,  0,  0],\n",
            "        [ 0,  0,  0],\n",
            "        [ 0,  0,  0],\n",
            "        ...,\n",
            "        [ 0,  0,  0],\n",
            "        [ 0,  0,  0],\n",
            "        [ 0,  0,  0]],\n",
            "\n",
            "       [[ 0,  0,  0],\n",
            "        [ 0,  0,  0],\n",
            "        [ 0,  0,  0],\n",
            "        ...,\n",
            "        [ 0,  0,  0],\n",
            "        [ 0,  0,  0],\n",
            "        [ 0,  0,  0]],\n",
            "\n",
            "       [[ 0,  0,  0],\n",
            "        [ 0,  0,  0],\n",
            "        [ 0,  0,  0],\n",
            "        ...,\n",
            "        [ 0,  0,  0],\n",
            "        [ 0,  0,  0],\n",
            "        [ 0,  0,  0]]], dtype=uint8)\n",
            "orig_shape: (1152, 1422)\n",
            "path: '/content/drive/MyDrive/AI/classication/min_chestxray/test/NORMAL/IM-0117-0001.jpeg'\n",
            "probs: ultralytics.engine.results.Probs object\n",
            "save_dir: None\n",
            "speed: {'preprocess': 0.6282329559326172, 'inference': 5.5789947509765625, 'postprocess': 0.057697296142578125}, ultralytics.engine.results.Results object with attributes:\n",
            "\n",
            "boxes: None\n",
            "keypoints: None\n",
            "masks: None\n",
            "names: {0: 'NORMAL', 1: 'PNEUMONIA'}\n",
            "orig_img: array([[[0, 0, 0],\n",
            "        [0, 0, 0],\n",
            "        [0, 0, 0],\n",
            "        ...,\n",
            "        [0, 0, 0],\n",
            "        [0, 0, 0],\n",
            "        [0, 0, 0]],\n",
            "\n",
            "       [[0, 0, 0],\n",
            "        [0, 0, 0],\n",
            "        [0, 0, 0],\n",
            "        ...,\n",
            "        [0, 0, 0],\n",
            "        [0, 0, 0],\n",
            "        [0, 0, 0]],\n",
            "\n",
            "       [[0, 0, 0],\n",
            "        [0, 0, 0],\n",
            "        [0, 0, 0],\n",
            "        ...,\n",
            "        [0, 0, 0],\n",
            "        [0, 0, 0],\n",
            "        [0, 0, 0]],\n",
            "\n",
            "       ...,\n",
            "\n",
            "       [[0, 0, 0],\n",
            "        [0, 0, 0],\n",
            "        [0, 0, 0],\n",
            "        ...,\n",
            "        [2, 2, 2],\n",
            "        [0, 0, 0],\n",
            "        [0, 0, 0]],\n",
            "\n",
            "       [[0, 0, 0],\n",
            "        [0, 0, 0],\n",
            "        [0, 0, 0],\n",
            "        ...,\n",
            "        [3, 3, 3],\n",
            "        [2, 2, 2],\n",
            "        [2, 2, 2]],\n",
            "\n",
            "       [[0, 0, 0],\n",
            "        [0, 0, 0],\n",
            "        [0, 0, 0],\n",
            "        ...,\n",
            "        [3, 3, 3],\n",
            "        [3, 3, 3],\n",
            "        [3, 3, 3]]], dtype=uint8)\n",
            "orig_shape: (1434, 1810)\n",
            "path: '/content/drive/MyDrive/AI/classication/min_chestxray/test/NORMAL/IM-0119-0001.jpeg'\n",
            "probs: ultralytics.engine.results.Probs object\n",
            "save_dir: None\n",
            "speed: {'preprocess': 0.45680999755859375, 'inference': 3.0634403228759766, 'postprocess': 0.05507469177246094}, ultralytics.engine.results.Results object with attributes:\n",
            "\n",
            "boxes: None\n",
            "keypoints: None\n",
            "masks: None\n",
            "names: {0: 'NORMAL', 1: 'PNEUMONIA'}\n",
            "orig_img: array([[[36, 36, 36],\n",
            "        [38, 38, 38],\n",
            "        [40, 40, 40],\n",
            "        ...,\n",
            "        [21, 21, 21],\n",
            "        [20, 20, 20],\n",
            "        [20, 20, 20]],\n",
            "\n",
            "       [[36, 36, 36],\n",
            "        [38, 38, 38],\n",
            "        [40, 40, 40],\n",
            "        ...,\n",
            "        [21, 21, 21],\n",
            "        [21, 21, 21],\n",
            "        [21, 21, 21]],\n",
            "\n",
            "       [[37, 37, 37],\n",
            "        [38, 38, 38],\n",
            "        [39, 39, 39],\n",
            "        ...,\n",
            "        [22, 22, 22],\n",
            "        [21, 21, 21],\n",
            "        [20, 20, 20]],\n",
            "\n",
            "       ...,\n",
            "\n",
            "       [[13, 13, 13],\n",
            "        [14, 14, 14],\n",
            "        [15, 15, 15],\n",
            "        ...,\n",
            "        [11, 11, 11],\n",
            "        [11, 11, 11],\n",
            "        [11, 11, 11]],\n",
            "\n",
            "       [[13, 13, 13],\n",
            "        [15, 15, 15],\n",
            "        [15, 15, 15],\n",
            "        ...,\n",
            "        [11, 11, 11],\n",
            "        [ 8,  8,  8],\n",
            "        [ 8,  8,  8]],\n",
            "\n",
            "       [[14, 14, 14],\n",
            "        [16, 16, 16],\n",
            "        [16, 16, 16],\n",
            "        ...,\n",
            "        [11, 11, 11],\n",
            "        [10, 10, 10],\n",
            "        [10, 10, 10]]], dtype=uint8)\n",
            "orig_shape: (1279, 1618)\n",
            "path: '/content/drive/MyDrive/AI/classication/min_chestxray/test/NORMAL/IM-0122-0001.jpeg'\n",
            "probs: ultralytics.engine.results.Probs object\n",
            "save_dir: None\n",
            "speed: {'preprocess': 0.5121231079101562, 'inference': 3.0586719512939453, 'postprocess': 0.04172325134277344}, ultralytics.engine.results.Results object with attributes:\n",
            "\n",
            "boxes: None\n",
            "keypoints: None\n",
            "masks: None\n",
            "names: {0: 'NORMAL', 1: 'PNEUMONIA'}\n",
            "orig_img: array([[[75, 75, 75],\n",
            "        [77, 77, 77],\n",
            "        [74, 74, 74],\n",
            "        ...,\n",
            "        [26, 26, 26],\n",
            "        [25, 25, 25],\n",
            "        [24, 24, 24]],\n",
            "\n",
            "       [[76, 76, 76],\n",
            "        [79, 79, 79],\n",
            "        [77, 77, 77],\n",
            "        ...,\n",
            "        [28, 28, 28],\n",
            "        [28, 28, 28],\n",
            "        [27, 27, 27]],\n",
            "\n",
            "       [[76, 76, 76],\n",
            "        [80, 80, 80],\n",
            "        [79, 79, 79],\n",
            "        ...,\n",
            "        [25, 25, 25],\n",
            "        [25, 25, 25],\n",
            "        [24, 24, 24]],\n",
            "\n",
            "       ...,\n",
            "\n",
            "       [[ 0,  0,  0],\n",
            "        [ 0,  0,  0],\n",
            "        [ 0,  0,  0],\n",
            "        ...,\n",
            "        [ 0,  0,  0],\n",
            "        [ 0,  0,  0],\n",
            "        [ 0,  0,  0]],\n",
            "\n",
            "       [[ 0,  0,  0],\n",
            "        [ 0,  0,  0],\n",
            "        [ 0,  0,  0],\n",
            "        ...,\n",
            "        [ 0,  0,  0],\n",
            "        [ 0,  0,  0],\n",
            "        [ 0,  0,  0]],\n",
            "\n",
            "       [[ 0,  0,  0],\n",
            "        [ 0,  0,  0],\n",
            "        [ 0,  0,  0],\n",
            "        ...,\n",
            "        [ 0,  0,  0],\n",
            "        [ 0,  0,  0],\n",
            "        [ 0,  0,  0]]], dtype=uint8)\n",
            "orig_shape: (1125, 1600)\n",
            "path: '/content/drive/MyDrive/AI/classication/min_chestxray/test/NORMAL/IM-0125-0001.jpeg'\n",
            "probs: ultralytics.engine.results.Probs object\n",
            "save_dir: None\n",
            "speed: {'preprocess': 0.44226646423339844, 'inference': 3.609180450439453, 'postprocess': 0.04363059997558594}, ultralytics.engine.results.Results object with attributes:\n",
            "\n",
            "boxes: None\n",
            "keypoints: None\n",
            "masks: None\n",
            "names: {0: 'NORMAL', 1: 'PNEUMONIA'}\n",
            "orig_img: array([[[143, 143, 143],\n",
            "        [144, 144, 144],\n",
            "        [147, 147, 147],\n",
            "        ...,\n",
            "        [ 61,  61,  61],\n",
            "        [ 62,  62,  62],\n",
            "        [ 60,  60,  60]],\n",
            "\n",
            "       [[135, 135, 135],\n",
            "        [135, 135, 135],\n",
            "        [137, 137, 137],\n",
            "        ...,\n",
            "        [ 57,  57,  57],\n",
            "        [ 58,  58,  58],\n",
            "        [ 57,  57,  57]],\n",
            "\n",
            "       [[127, 127, 127],\n",
            "        [127, 127, 127],\n",
            "        [128, 128, 128],\n",
            "        ...,\n",
            "        [ 56,  56,  56],\n",
            "        [ 56,  56,  56],\n",
            "        [ 56,  56,  56]],\n",
            "\n",
            "       ...,\n",
            "\n",
            "       [[  0,   0,   0],\n",
            "        [  0,   0,   0],\n",
            "        [  0,   0,   0],\n",
            "        ...,\n",
            "        [  0,   0,   0],\n",
            "        [  0,   0,   0],\n",
            "        [  0,   0,   0]],\n",
            "\n",
            "       [[  0,   0,   0],\n",
            "        [  0,   0,   0],\n",
            "        [  0,   0,   0],\n",
            "        ...,\n",
            "        [  0,   0,   0],\n",
            "        [  0,   0,   0],\n",
            "        [  0,   0,   0]],\n",
            "\n",
            "       [[  0,   0,   0],\n",
            "        [  0,   0,   0],\n",
            "        [  0,   0,   0],\n",
            "        ...,\n",
            "        [  0,   0,   0],\n",
            "        [  0,   0,   0],\n",
            "        [  0,   0,   0]]], dtype=uint8)\n",
            "orig_shape: (1306, 1974)\n",
            "path: '/content/drive/MyDrive/AI/classication/min_chestxray/test/NORMAL/IM-0127-0001.jpeg'\n",
            "probs: ultralytics.engine.results.Probs object\n",
            "save_dir: None\n",
            "speed: {'preprocess': 0.8535385131835938, 'inference': 6.830692291259766, 'postprocess': 0.07772445678710938}, ultralytics.engine.results.Results object with attributes:\n",
            "\n",
            "boxes: None\n",
            "keypoints: None\n",
            "masks: None\n",
            "names: {0: 'NORMAL', 1: 'PNEUMONIA'}\n",
            "orig_img: array([[[0, 0, 0],\n",
            "        [0, 0, 0],\n",
            "        [0, 0, 0],\n",
            "        ...,\n",
            "        [9, 9, 9],\n",
            "        [3, 3, 3],\n",
            "        [0, 0, 0]],\n",
            "\n",
            "       [[0, 0, 0],\n",
            "        [0, 0, 0],\n",
            "        [0, 0, 0],\n",
            "        ...,\n",
            "        [7, 7, 7],\n",
            "        [2, 2, 2],\n",
            "        [0, 0, 0]],\n",
            "\n",
            "       [[0, 0, 0],\n",
            "        [0, 0, 0],\n",
            "        [0, 0, 0],\n",
            "        ...,\n",
            "        [5, 5, 5],\n",
            "        [0, 0, 0],\n",
            "        [0, 0, 0]],\n",
            "\n",
            "       ...,\n",
            "\n",
            "       [[0, 0, 0],\n",
            "        [0, 0, 0],\n",
            "        [0, 0, 0],\n",
            "        ...,\n",
            "        [0, 0, 0],\n",
            "        [0, 0, 0],\n",
            "        [0, 0, 0]],\n",
            "\n",
            "       [[0, 0, 0],\n",
            "        [0, 0, 0],\n",
            "        [0, 0, 0],\n",
            "        ...,\n",
            "        [0, 0, 0],\n",
            "        [0, 0, 0],\n",
            "        [0, 0, 0]],\n",
            "\n",
            "       [[0, 0, 0],\n",
            "        [0, 0, 0],\n",
            "        [0, 0, 0],\n",
            "        ...,\n",
            "        [0, 0, 0],\n",
            "        [0, 0, 0],\n",
            "        [0, 0, 0]]], dtype=uint8)\n",
            "orig_shape: (1013, 1528)\n",
            "path: '/content/drive/MyDrive/AI/classication/min_chestxray/test/NORMAL/IM-0128-0001.jpeg'\n",
            "probs: ultralytics.engine.results.Probs object\n",
            "save_dir: None\n",
            "speed: {'preprocess': 0.8363723754882812, 'inference': 7.012367248535156, 'postprocess': 0.06961822509765625}, ultralytics.engine.results.Results object with attributes:\n",
            "\n",
            "boxes: None\n",
            "keypoints: None\n",
            "masks: None\n",
            "names: {0: 'NORMAL', 1: 'PNEUMONIA'}\n",
            "orig_img: array([[[ 0,  0,  0],\n",
            "        [11, 11, 11],\n",
            "        [ 5,  5,  5],\n",
            "        ...,\n",
            "        [ 0,  0,  0],\n",
            "        [ 0,  0,  0],\n",
            "        [ 0,  0,  0]],\n",
            "\n",
            "       [[ 0,  0,  0],\n",
            "        [11, 11, 11],\n",
            "        [ 5,  5,  5],\n",
            "        ...,\n",
            "        [ 0,  0,  0],\n",
            "        [ 0,  0,  0],\n",
            "        [ 0,  0,  0]],\n",
            "\n",
            "       [[ 0,  0,  0],\n",
            "        [11, 11, 11],\n",
            "        [ 5,  5,  5],\n",
            "        ...,\n",
            "        [ 0,  0,  0],\n",
            "        [ 0,  0,  0],\n",
            "        [ 0,  0,  0]],\n",
            "\n",
            "       ...,\n",
            "\n",
            "       [[ 0,  0,  0],\n",
            "        [ 0,  0,  0],\n",
            "        [ 0,  0,  0],\n",
            "        ...,\n",
            "        [ 0,  0,  0],\n",
            "        [ 0,  0,  0],\n",
            "        [ 0,  0,  0]],\n",
            "\n",
            "       [[ 0,  0,  0],\n",
            "        [ 0,  0,  0],\n",
            "        [ 0,  0,  0],\n",
            "        ...,\n",
            "        [ 0,  0,  0],\n",
            "        [ 0,  0,  0],\n",
            "        [ 0,  0,  0]],\n",
            "\n",
            "       [[ 0,  0,  0],\n",
            "        [ 0,  0,  0],\n",
            "        [ 0,  0,  0],\n",
            "        ...,\n",
            "        [ 0,  0,  0],\n",
            "        [ 0,  0,  0],\n",
            "        [ 0,  0,  0]]], dtype=uint8)\n",
            "orig_shape: (1167, 1384)\n",
            "path: '/content/drive/MyDrive/AI/classication/min_chestxray/test/NORMAL/IM-0129-0001.jpeg'\n",
            "probs: ultralytics.engine.results.Probs object\n",
            "save_dir: None\n",
            "speed: {'preprocess': 0.5710124969482422, 'inference': 3.1578540802001953, 'postprocess': 0.046253204345703125}, ultralytics.engine.results.Results object with attributes:\n",
            "\n",
            "boxes: None\n",
            "keypoints: None\n",
            "masks: None\n",
            "names: {0: 'NORMAL', 1: 'PNEUMONIA'}\n",
            "orig_img: array([[[  0,   0,   0],\n",
            "        [ 21,  21,  21],\n",
            "        [ 14,  14,  14],\n",
            "        ...,\n",
            "        [131, 131, 131],\n",
            "        [137, 137, 137],\n",
            "        [147, 147, 147]],\n",
            "\n",
            "       [[  0,   0,   0],\n",
            "        [ 20,  20,  20],\n",
            "        [ 16,  16,  16],\n",
            "        ...,\n",
            "        [133, 133, 133],\n",
            "        [138, 138, 138],\n",
            "        [147, 147, 147]],\n",
            "\n",
            "       [[  2,   2,   2],\n",
            "        [ 22,  22,  22],\n",
            "        [ 19,  19,  19],\n",
            "        ...,\n",
            "        [137, 137, 137],\n",
            "        [141, 141, 141],\n",
            "        [147, 147, 147]],\n",
            "\n",
            "       ...,\n",
            "\n",
            "       [[  0,   0,   0],\n",
            "        [  0,   0,   0],\n",
            "        [  0,   0,   0],\n",
            "        ...,\n",
            "        [  0,   0,   0],\n",
            "        [  0,   0,   0],\n",
            "        [  0,   0,   0]],\n",
            "\n",
            "       [[  0,   0,   0],\n",
            "        [  0,   0,   0],\n",
            "        [  0,   0,   0],\n",
            "        ...,\n",
            "        [  0,   0,   0],\n",
            "        [  0,   0,   0],\n",
            "        [  0,   0,   0]],\n",
            "\n",
            "       [[  0,   0,   0],\n",
            "        [  0,   0,   0],\n",
            "        [  0,   0,   0],\n",
            "        ...,\n",
            "        [  0,   0,   0],\n",
            "        [  0,   0,   0],\n",
            "        [  0,   0,   0]]], dtype=uint8)\n",
            "orig_shape: (1144, 1450)\n",
            "path: '/content/drive/MyDrive/AI/classication/min_chestxray/test/NORMAL/IM-0131-0001.jpeg'\n",
            "probs: ultralytics.engine.results.Probs object\n",
            "save_dir: None\n",
            "speed: {'preprocess': 0.4322528839111328, 'inference': 3.1366348266601562, 'postprocess': 0.044345855712890625}, ultralytics.engine.results.Results object with attributes:\n",
            "\n",
            "boxes: None\n",
            "keypoints: None\n",
            "masks: None\n",
            "names: {0: 'NORMAL', 1: 'PNEUMONIA'}\n",
            "orig_img: array([[[59, 59, 59],\n",
            "        [63, 63, 63],\n",
            "        [63, 63, 63],\n",
            "        ...,\n",
            "        [ 0,  0,  0],\n",
            "        [ 0,  0,  0],\n",
            "        [ 0,  0,  0]],\n",
            "\n",
            "       [[59, 59, 59],\n",
            "        [61, 61, 61],\n",
            "        [60, 60, 60],\n",
            "        ...,\n",
            "        [ 0,  0,  0],\n",
            "        [ 0,  0,  0],\n",
            "        [ 0,  0,  0]],\n",
            "\n",
            "       [[60, 60, 60],\n",
            "        [60, 60, 60],\n",
            "        [59, 59, 59],\n",
            "        ...,\n",
            "        [ 0,  0,  0],\n",
            "        [ 0,  0,  0],\n",
            "        [ 0,  0,  0]],\n",
            "\n",
            "       ...,\n",
            "\n",
            "       [[ 0,  0,  0],\n",
            "        [ 0,  0,  0],\n",
            "        [ 0,  0,  0],\n",
            "        ...,\n",
            "        [ 0,  0,  0],\n",
            "        [ 0,  0,  0],\n",
            "        [ 0,  0,  0]],\n",
            "\n",
            "       [[ 0,  0,  0],\n",
            "        [ 0,  0,  0],\n",
            "        [ 0,  0,  0],\n",
            "        ...,\n",
            "        [ 0,  0,  0],\n",
            "        [ 0,  0,  0],\n",
            "        [ 0,  0,  0]],\n",
            "\n",
            "       [[ 0,  0,  0],\n",
            "        [ 0,  0,  0],\n",
            "        [ 0,  0,  0],\n",
            "        ...,\n",
            "        [ 0,  0,  0],\n",
            "        [ 0,  0,  0],\n",
            "        [ 0,  0,  0]]], dtype=uint8)\n",
            "orig_shape: (993, 1468)\n",
            "path: '/content/drive/MyDrive/AI/classication/min_chestxray/test/NORMAL/IM-0133-0001.jpeg'\n",
            "probs: ultralytics.engine.results.Probs object\n",
            "save_dir: None\n",
            "speed: {'preprocess': 0.4839897155761719, 'inference': 3.2324790954589844, 'postprocess': 0.051975250244140625}]\n"
          ]
        }
      ]
    },
    {
      "cell_type": "code",
      "source": [
        "# Run batched inference on a list of images\n",
        "source = \"/content/drive/MyDrive/AI/classication/min_chestxray/test/NORMAL/\"\n",
        "\n",
        "results = model(source)  # return a list of Results objects\n",
        "\n",
        "# Process results list\n",
        "for result in results:\n",
        "    boxes = result.boxes  # Boxes object for bbox outputs\n",
        "    masks = result.masks  # Masks object for segmentation masks outputs\n",
        "    keypoints = result.keypoints  # Keypoints object for pose outputs\n",
        "    probs = result.probs  # P"
      ],
      "metadata": {
        "colab": {
          "base_uri": "https://localhost:8080/"
        },
        "id": "JrstmTUCgYuu",
        "outputId": "c68293e1-82ce-4bd9-cf0e-ffab6d43b1aa"
      },
      "execution_count": 15,
      "outputs": [
        {
          "output_type": "stream",
          "name": "stdout",
          "text": [
            "\n",
            "image 1/10 /content/drive/MyDrive/AI/classication/min_chestxray/test/NORMAL/IM-0115-0001.jpeg: 64x64 NORMAL 1.00, PNEUMONIA 0.00, 5.9ms\n",
            "image 2/10 /content/drive/MyDrive/AI/classication/min_chestxray/test/NORMAL/IM-0117-0001.jpeg: 64x64 NORMAL 1.00, PNEUMONIA 0.00, 5.3ms\n",
            "image 3/10 /content/drive/MyDrive/AI/classication/min_chestxray/test/NORMAL/IM-0119-0001.jpeg: 64x64 NORMAL 1.00, PNEUMONIA 0.00, 3.3ms\n",
            "image 4/10 /content/drive/MyDrive/AI/classication/min_chestxray/test/NORMAL/IM-0122-0001.jpeg: 64x64 NORMAL 1.00, PNEUMONIA 0.00, 3.5ms\n",
            "image 5/10 /content/drive/MyDrive/AI/classication/min_chestxray/test/NORMAL/IM-0125-0001.jpeg: 64x64 NORMAL 1.00, PNEUMONIA 0.00, 3.8ms\n",
            "image 6/10 /content/drive/MyDrive/AI/classication/min_chestxray/test/NORMAL/IM-0127-0001.jpeg: 64x64 NORMAL 1.00, PNEUMONIA 0.00, 4.3ms\n",
            "image 7/10 /content/drive/MyDrive/AI/classication/min_chestxray/test/NORMAL/IM-0128-0001.jpeg: 64x64 NORMAL 1.00, PNEUMONIA 0.00, 5.8ms\n",
            "image 8/10 /content/drive/MyDrive/AI/classication/min_chestxray/test/NORMAL/IM-0129-0001.jpeg: 64x64 NORMAL 1.00, PNEUMONIA 0.00, 7.4ms\n",
            "image 9/10 /content/drive/MyDrive/AI/classication/min_chestxray/test/NORMAL/IM-0131-0001.jpeg: 64x64 NORMAL 1.00, PNEUMONIA 0.00, 6.8ms\n",
            "image 10/10 /content/drive/MyDrive/AI/classication/min_chestxray/test/NORMAL/IM-0133-0001.jpeg: 64x64 NORMAL 1.00, PNEUMONIA 0.00, 3.9ms\n",
            "Speed: 0.7ms preprocess, 5.0ms inference, 0.1ms postprocess per image at shape (1, 3, 64, 64)\n"
          ]
        }
      ]
    },
    {
      "cell_type": "code",
      "source": [
        "# Run batched inference on a list of images\n",
        "source = \"/content/drive/MyDrive/AI/classication/min_chestxray/test/PNEUMONIA/\"\n",
        "\n",
        "results = model(source)  # return a list of Results objects\n",
        "\n",
        "# Process results list\n",
        "for result in results:\n",
        "    boxes = result.boxes  # Boxes object for bbox outputs\n",
        "    masks = result.masks  # Masks object for segmentation masks outputs\n",
        "    keypoints = result.keypoints  # Keypoints object for pose outputs\n",
        "    probs = result.probs  # P"
      ],
      "metadata": {
        "colab": {
          "base_uri": "https://localhost:8080/"
        },
        "id": "WMVu6okvhC1i",
        "outputId": "e6e5e65c-2d3b-4e8e-d191-5aa0a1d9b10b"
      },
      "execution_count": 16,
      "outputs": [
        {
          "output_type": "stream",
          "name": "stdout",
          "text": [
            "\n",
            "image 1/10 /content/drive/MyDrive/AI/classication/min_chestxray/test/PNEUMONIA/person1000_bacteria_2931.jpeg: 64x64 PNEUMONIA 0.83, NORMAL 0.17, 4.2ms\n",
            "image 2/10 /content/drive/MyDrive/AI/classication/min_chestxray/test/PNEUMONIA/person1000_virus_1681.jpeg: 64x64 PNEUMONIA 0.85, NORMAL 0.15, 3.6ms\n",
            "image 3/10 /content/drive/MyDrive/AI/classication/min_chestxray/test/PNEUMONIA/person1001_bacteria_2932.jpeg: 64x64 NORMAL 0.64, PNEUMONIA 0.36, 3.7ms\n",
            "image 4/10 /content/drive/MyDrive/AI/classication/min_chestxray/test/PNEUMONIA/person1002_bacteria_2933.jpeg: 64x64 PNEUMONIA 0.71, NORMAL 0.29, 5.2ms\n",
            "image 5/10 /content/drive/MyDrive/AI/classication/min_chestxray/test/PNEUMONIA/person1003_bacteria_2934.jpeg: 64x64 PNEUMONIA 0.97, NORMAL 0.03, 3.6ms\n",
            "image 6/10 /content/drive/MyDrive/AI/classication/min_chestxray/test/PNEUMONIA/person1003_virus_1685.jpeg: 64x64 PNEUMONIA 0.98, NORMAL 0.02, 6.2ms\n",
            "image 7/10 /content/drive/MyDrive/AI/classication/min_chestxray/test/PNEUMONIA/person1004_bacteria_2935.jpeg: 64x64 PNEUMONIA 1.00, NORMAL 0.00, 4.4ms\n",
            "image 8/10 /content/drive/MyDrive/AI/classication/min_chestxray/test/PNEUMONIA/person1004_virus_1686.jpeg: 64x64 PNEUMONIA 1.00, NORMAL 0.00, 4.4ms\n",
            "image 9/10 /content/drive/MyDrive/AI/classication/min_chestxray/test/PNEUMONIA/person1005_bacteria_2936.jpeg: 64x64 PNEUMONIA 1.00, NORMAL 0.00, 5.6ms\n",
            "image 10/10 /content/drive/MyDrive/AI/classication/min_chestxray/test/PNEUMONIA/person1005_virus_1688.jpeg: 64x64 PNEUMONIA 0.79, NORMAL 0.21, 3.3ms\n",
            "Speed: 0.8ms preprocess, 4.4ms inference, 0.1ms postprocess per image at shape (1, 3, 64, 64)\n"
          ]
        }
      ]
    },
    {
      "cell_type": "code",
      "source": [
        "results = model('/content/drive/MyDrive/AI/classication/min_chestxray/test/PNEUMONIA/person1000_bacteria_2931.jpeg')  # results list\n",
        "\n",
        "# View results\n",
        "for r in results:\n",
        "    print(r.masks)  # print the Masks object containing the detected instance masks"
      ],
      "metadata": {
        "id": "EmZadMlxiAap"
      },
      "execution_count": null,
      "outputs": []
    },
    {
      "cell_type": "code",
      "source": [
        "model.predict('/content/drive/MyDrive/AI/classication/min_chestxray/test/PNEUMONIA/person1000_bacteria_2931.jpeg', save=True, imgsz=64, conf=0.5,show=True)\n"
      ],
      "metadata": {
        "colab": {
          "base_uri": "https://localhost:8080/"
        },
        "id": "RgcHF_d5hk5V",
        "outputId": "1231f0f4-2e52-4a3a-dcc4-893af52cca4f"
      },
      "execution_count": null,
      "outputs": [
        {
          "output_type": "stream",
          "name": "stdout",
          "text": [
            "\n"
          ]
        }
      ]
    },
    {
      "cell_type": "code",
      "source": [
        "# import YOLO model\n",
        "from ultralytics import YOLO\n",
        "\n",
        "# Load a model\n",
        "model = YOLO('yolov8n-cls.pt') # load a pretrained model (recommended for training)\n",
        "\n",
        "# Train the model\n",
        "model.train(data='/content/drive/MyDrive/AI/classication/chest_xray', epochs=50,imgsz=320,batch=8,patience=30,optimizer='Adam',cache=True)"
      ],
      "metadata": {
        "id": "5xxOVv_zUCzv"
      },
      "execution_count": null,
      "outputs": []
    }
  ]
}