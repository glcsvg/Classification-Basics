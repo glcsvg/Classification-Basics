{
 "cells": [
  {
   "cell_type": "markdown",
   "id": "79657ed2",
   "metadata": {
    "papermill": {
     "duration": 0.004591,
     "end_time": "2022-09-21T23:42:24.374720",
     "exception": false,
     "start_time": "2022-09-21T23:42:24.370129",
     "status": "completed"
    },
    "tags": []
   },
   "source": [
    "# Notebook Goals\n",
    "Use some pretrained out-of-the-box models from pytorch to see how well it does, these will serve as benchmark algorithms to our custom model. The pretrained models will be finetuned\n",
    "\n",
    "Other performance metrics: https://medium.com/analytics-vidhya/how-to-select-performance-metrics-for-classification-models-c847fe6b1ea3"
   ]
  },
  {
   "cell_type": "code",
   "execution_count": 1,
   "id": "5674e12e",
   "metadata": {
    "_cell_guid": "b1076dfc-b9ad-4769-8c92-a6c4dae69d19",
    "_uuid": "8f2839f25d086af736a60e9eeb907d3b93b6e0e5",
    "execution": {
     "iopub.execute_input": "2022-09-21T23:42:24.384789Z",
     "iopub.status.busy": "2022-09-21T23:42:24.383529Z",
     "iopub.status.idle": "2022-09-21T23:42:26.740145Z",
     "shell.execute_reply": "2022-09-21T23:42:26.739158Z"
    },
    "papermill": {
     "duration": 2.364128,
     "end_time": "2022-09-21T23:42:26.742660",
     "exception": false,
     "start_time": "2022-09-21T23:42:24.378532",
     "status": "completed"
    },
    "tags": []
   },
   "outputs": [],
   "source": [
    "import torch\n",
    "import torch.nn as nn\n",
    "from torch.utils.data import DataLoader, random_split\n",
    "import torchvision\n",
    "from torchvision.datasets import ImageFolder\n",
    "import torchvision.transforms as transforms\n",
    "\n",
    "import matplotlib.pyplot as plt\n",
    "import numpy as np\n",
    "import pandas as pd\n",
    "import random\n",
    "from sklearn.metrics import confusion_matrix, classification_report\n",
    "\n",
    "\n",
    "# Reproducability\n",
    "# https://clay-atlas.com/us/blog/2021/08/24/pytorch-en-set-seed-reproduce/\n",
    "seed = 123\n",
    "torch.manual_seed(seed)\n",
    "torch.cuda.manual_seed(seed)\n",
    "torch.cuda.manual_seed_all(seed)\n",
    "np.random.seed(seed)\n",
    "random.seed(seed)\n",
    "torch.backends.cudnn.benchmark = False\n",
    "torch.backends.cudnn.deterministic = True"
   ]
  },
  {
   "cell_type": "code",
   "execution_count": 2,
   "id": "8ed0267d",
   "metadata": {
    "execution": {
     "iopub.execute_input": "2022-09-21T23:42:26.752238Z",
     "iopub.status.busy": "2022-09-21T23:42:26.751140Z",
     "iopub.status.idle": "2022-09-21T23:42:26.756170Z",
     "shell.execute_reply": "2022-09-21T23:42:26.755296Z"
    },
    "papermill": {
     "duration": 0.01178,
     "end_time": "2022-09-21T23:42:26.758308",
     "exception": false,
     "start_time": "2022-09-21T23:42:26.746528",
     "status": "completed"
    },
    "tags": []
   },
   "outputs": [],
   "source": [
    "TRAIN_IMGS = \"../input/children-vs-adults-images/train\"\n",
    "TEST_IMGS = \"../input/children-vs-adults-images/test\"\n",
    "PATH = \"./Model.pth\""
   ]
  },
  {
   "cell_type": "code",
   "execution_count": 3,
   "id": "ad3a0ec5",
   "metadata": {
    "execution": {
     "iopub.execute_input": "2022-09-21T23:42:26.767232Z",
     "iopub.status.busy": "2022-09-21T23:42:26.766551Z",
     "iopub.status.idle": "2022-09-21T23:42:26.771820Z",
     "shell.execute_reply": "2022-09-21T23:42:26.770915Z"
    },
    "papermill": {
     "duration": 0.011826,
     "end_time": "2022-09-21T23:42:26.773832",
     "exception": false,
     "start_time": "2022-09-21T23:42:26.762006",
     "status": "completed"
    },
    "tags": []
   },
   "outputs": [],
   "source": [
    "# Hyperparameters\n",
    "IMG_SIZE = (224,224)\n",
    "BATCH_SIZE = 32\n",
    "NUM_EPOCHS = 25\n",
    "LR = 0.001"
   ]
  },
  {
   "cell_type": "code",
   "execution_count": 4,
   "id": "700ddfa6",
   "metadata": {
    "execution": {
     "iopub.execute_input": "2022-09-21T23:42:26.782490Z",
     "iopub.status.busy": "2022-09-21T23:42:26.781541Z",
     "iopub.status.idle": "2022-09-21T23:42:26.788440Z",
     "shell.execute_reply": "2022-09-21T23:42:26.787557Z"
    },
    "papermill": {
     "duration": 0.013148,
     "end_time": "2022-09-21T23:42:26.790413",
     "exception": false,
     "start_time": "2022-09-21T23:42:26.777265",
     "status": "completed"
    },
    "tags": []
   },
   "outputs": [],
   "source": [
    "# Transforms\n",
    "transforms = {'train': transforms.Compose([transforms.Resize(IMG_SIZE),\n",
    "                                           transforms.RandomHorizontalFlip(p=0.5),\n",
    "                                           transforms.RandomVerticalFlip(p=0.5),\n",
    "                                           transforms.ColorJitter(brightness=.5, contrast=.3, saturation=.2),\n",
    "                                 transforms.ToTensor()]), \n",
    "              \n",
    "              'test': transforms.Compose([transforms.Resize(IMG_SIZE),\n",
    "                                          transforms.RandomHorizontalFlip(p=0.5),\n",
    "                                           transforms.RandomVerticalFlip(p=0.5),\n",
    "                                          transforms.ColorJitter(brightness=.5, contrast=.3, saturation=.2),\n",
    "                                 transforms.ToTensor()])\n",
    "             }"
   ]
  },
  {
   "cell_type": "code",
   "execution_count": 5,
   "id": "705b7435",
   "metadata": {
    "execution": {
     "iopub.execute_input": "2022-09-21T23:42:26.798988Z",
     "iopub.status.busy": "2022-09-21T23:42:26.798233Z",
     "iopub.status.idle": "2022-09-21T23:42:27.110561Z",
     "shell.execute_reply": "2022-09-21T23:42:27.109552Z"
    },
    "papermill": {
     "duration": 0.318996,
     "end_time": "2022-09-21T23:42:27.112986",
     "exception": false,
     "start_time": "2022-09-21T23:42:26.793990",
     "status": "completed"
    },
    "tags": []
   },
   "outputs": [],
   "source": [
    "dataset = ImageFolder(TRAIN_IMGS, transform=transforms['train'])\n",
    "test_dataset = ImageFolder(TEST_IMGS, transform=transforms['test'])"
   ]
  },
  {
   "cell_type": "code",
   "execution_count": 6,
   "id": "29f78a1d",
   "metadata": {
    "execution": {
     "iopub.execute_input": "2022-09-21T23:42:27.122329Z",
     "iopub.status.busy": "2022-09-21T23:42:27.121485Z",
     "iopub.status.idle": "2022-09-21T23:42:27.128631Z",
     "shell.execute_reply": "2022-09-21T23:42:27.127785Z"
    },
    "papermill": {
     "duration": 0.013685,
     "end_time": "2022-09-21T23:42:27.130635",
     "exception": false,
     "start_time": "2022-09-21T23:42:27.116950",
     "status": "completed"
    },
    "tags": []
   },
   "outputs": [],
   "source": [
    "# Split dataset into train and valid, 75% and 25%\n",
    "train_set, validation_set = random_split(dataset, [510, 170]) # total number of datapoints = 680\n",
    "train_dl = DataLoader(train_set, BATCH_SIZE, shuffle=True)\n",
    "val_dl = DataLoader(validation_set, BATCH_SIZE, shuffle=True)\n",
    "\n",
    "test_dl = DataLoader(test_dataset, BATCH_SIZE, shuffle=True) # if you dont, then first batch will be all 0"
   ]
  },
  {
   "cell_type": "code",
   "execution_count": 7,
   "id": "3348e58e",
   "metadata": {
    "execution": {
     "iopub.execute_input": "2022-09-21T23:42:27.140475Z",
     "iopub.status.busy": "2022-09-21T23:42:27.138828Z",
     "iopub.status.idle": "2022-09-21T23:42:27.882274Z",
     "shell.execute_reply": "2022-09-21T23:42:27.881240Z"
    },
    "papermill": {
     "duration": 0.751094,
     "end_time": "2022-09-21T23:42:27.885323",
     "exception": false,
     "start_time": "2022-09-21T23:42:27.134229",
     "status": "completed"
    },
    "tags": []
   },
   "outputs": [
    {
     "name": "stdout",
     "output_type": "stream",
     "text": [
      "torch.Size([32, 3, 224, 224]) torch.Size([32])\n",
      "tensor(1)\n"
     ]
    },
    {
     "data": {
      "image/png": "[encoded data removed]",
      "text/plain": [
       "<Figure size 432x288 with 1 Axes>"
      ]
     },
     "metadata": {
      "needs_background": "light"
     },
     "output_type": "display_data"
    }
   ],
   "source": [
    "# Display an img\n",
    "img, label = next(iter(train_dl))\n",
    "print(img.shape, label.shape)\n",
    "img = img[0].squeeze() # gets rid of batch column, returns [3, 224, 224]\n",
    "label = label[0]\n",
    "\n",
    "plt.imshow(img.permute(1, 2, 0)) # from [c, w, h] to [w, h, c]\n",
    "print(label)"
   ]
  },
  {
   "cell_type": "code",
   "execution_count": 8,
   "id": "154c84cf",
   "metadata": {
    "execution": {
     "iopub.execute_input": "2022-09-21T23:42:27.896366Z",
     "iopub.status.busy": "2022-09-21T23:42:27.896043Z",
     "iopub.status.idle": "2022-09-21T23:42:33.007534Z",
     "shell.execute_reply": "2022-09-21T23:42:33.006543Z"
    },
    "papermill": {
     "duration": 5.119823,
     "end_time": "2022-09-21T23:42:33.009934",
     "exception": false,
     "start_time": "2022-09-21T23:42:27.890111",
     "status": "completed"
    },
    "tags": []
   },
   "outputs": [
    {
     "name": "stderr",
     "output_type": "stream",
     "text": [
      "Downloading: \"https://download.pytorch.org/models/resnet18-f37072fd.pth\" to /root/.cache/torch/hub/checkpoints/resnet18-f37072fd.pth\n"
     ]
    },
    {
     "data": {
      "application/vnd.jupyter.widget-view+json": {
       "model_id": "b1d25309532744e3891063166fb4f297",
       "version_major": 2,
       "version_minor": 0
      },
      "text/plain": [
       "  0%|          | 0.00/44.7M [00:00<?, ?B/s]"
      ]
     },
     "metadata": {},
     "output_type": "display_data"
    }
   ],
   "source": [
    "# Using pretrained models\n",
    "resnet18 = torchvision.models.resnet18(pretrained=True)\n",
    "\n",
    "# Change last layer of model to represent number of classes, in this case 0 = adult, 1 = child. \n",
    "resnet18.fc = nn.Linear(in_features=512, out_features=2, bias=True)\n",
    "#resnet18"
   ]
  },
  {
   "cell_type": "code",
   "execution_count": 9,
   "id": "169a96be",
   "metadata": {
    "execution": {
     "iopub.execute_input": "2022-09-21T23:42:33.022330Z",
     "iopub.status.busy": "2022-09-21T23:42:33.021455Z",
     "iopub.status.idle": "2022-09-21T23:42:33.081409Z",
     "shell.execute_reply": "2022-09-21T23:42:33.080310Z"
    },
    "papermill": {
     "duration": 0.068246,
     "end_time": "2022-09-21T23:42:33.083581",
     "exception": false,
     "start_time": "2022-09-21T23:42:33.015335",
     "status": "completed"
    },
    "tags": []
   },
   "outputs": [],
   "source": [
    "device = torch.device('cuda' if torch.cuda.is_available() else 'cpu')"
   ]
  },
  {
   "cell_type": "code",
   "execution_count": 10,
   "id": "aab930e2",
   "metadata": {
    "execution": {
     "iopub.execute_input": "2022-09-21T23:42:33.095049Z",
     "iopub.status.busy": "2022-09-21T23:42:33.094677Z",
     "iopub.status.idle": "2022-09-21T23:42:33.106660Z",
     "shell.execute_reply": "2022-09-21T23:42:33.105692Z"
    },
    "papermill": {
     "duration": 0.02012,
     "end_time": "2022-09-21T23:42:33.108771",
     "exception": false,
     "start_time": "2022-09-21T23:42:33.088651",
     "status": "completed"
    },
    "tags": []
   },
   "outputs": [],
   "source": [
    "# Training Function \n",
    "# https://learn.microsoft.com/en-us/windows/ai/windows-ml/tutorials/pytorch-analysis-train-model\n",
    "def train(model): \n",
    "    model = model.to(device)\n",
    "    loss_fn = nn.CrossEntropyLoss()\n",
    "    optimizer = torch.optim.SGD(model.parameters(), lr=LR)\n",
    "    running_train_loss_arr = []\n",
    "    running_val_loss_arr = []\n",
    "     \n",
    "    for epoch in range(NUM_EPOCHS): \n",
    "        running_train_loss = 0.0 \n",
    "        running_accuracy = 0.0 \n",
    "        running_vall_loss = 0.0 \n",
    "        total = 0 \n",
    "        \n",
    " \n",
    "        # Training Loop \n",
    "        for data in train_dl: \n",
    "        #for data in enumerate(train_loader, 0): \n",
    "            inputs, outputs = data  # get the input and real species as outputs; data is a list of [inputs, outputs] \n",
    "            inputs = inputs.to(device)\n",
    "            outputs = outputs.to(device)\n",
    "            optimizer.zero_grad()   # zero the parameter gradients          \n",
    "            predicted_outputs = model(inputs)   # predict output from the model \n",
    "            train_loss = loss_fn(predicted_outputs, outputs)   # calculate loss for the predicted output  \n",
    "            train_loss.backward()   # backpropagate the loss \n",
    "            optimizer.step()        # adjust parameters based on the calculated gradients \n",
    "            running_train_loss +=train_loss.item()  # track the loss value \n",
    " \n",
    "        # Calculate training loss value \n",
    "        train_loss_value = running_train_loss/len(train_dl) \n",
    "        running_train_loss_arr.append(train_loss_value)\n",
    " \n",
    "        # Validation Loop \n",
    "        with torch.no_grad(): \n",
    "            model.eval() \n",
    "            for data in val_dl: \n",
    "                inputs, outputs = data \n",
    "                inputs = inputs.to(device)\n",
    "                outputs = outputs.to(device)\n",
    "                predicted_outputs = model(inputs) \n",
    "                val_loss = loss_fn(predicted_outputs, outputs) \n",
    "             \n",
    "                # The label with the highest value will be our prediction \n",
    "                _, predicted = torch.max(predicted_outputs, 1) \n",
    "                running_vall_loss += val_loss.item()  \n",
    "                total += outputs.size(0) \n",
    "                running_accuracy += (predicted == outputs).sum().item() \n",
    " \n",
    "        # Calculate validation loss value \n",
    "        val_loss_value = running_vall_loss/len(val_dl) \n",
    "        running_val_loss_arr.append(val_loss_value)\n",
    "                \n",
    "        # Calculate accuracy as the number of correct predictions in the validation batch divided by the total number of predictions done.  \n",
    "        accuracy = (100 * running_accuracy / total)     \n",
    "         \n",
    "        # Print the statistics of the epoch \n",
    "        print(f'[{epoch + 1}/{NUM_EPOCHS}], Training Loss is: {train_loss_value:.3f}, Validation Loss is: {val_loss_value:.3f},Accuracy is {accuracy:.3f}')\n",
    "        \n",
    "        # Save the model \n",
    "        torch.save(model.state_dict(), PATH)\n",
    "    return running_train_loss_arr, running_val_loss_arr\n",
    "        "
   ]
  },
  {
   "cell_type": "code",
   "execution_count": 11,
   "id": "037c3245",
   "metadata": {
    "execution": {
     "iopub.execute_input": "2022-09-21T23:42:33.119907Z",
     "iopub.status.busy": "2022-09-21T23:42:33.119565Z",
     "iopub.status.idle": "2022-09-21T23:42:33.125340Z",
     "shell.execute_reply": "2022-09-21T23:42:33.124451Z"
    },
    "papermill": {
     "duration": 0.013679,
     "end_time": "2022-09-21T23:42:33.127375",
     "exception": false,
     "start_time": "2022-09-21T23:42:33.113696",
     "status": "completed"
    },
    "tags": []
   },
   "outputs": [],
   "source": [
    "def plt_loss(train_loss, val_loss):\n",
    "    plt.title('Train')\n",
    "    plt.ylabel('Loss')\n",
    "    plt.xlabel('Batches')\n",
    "    plt.plot(train_loss)\n",
    "    plt.plot(val_loss)\n",
    "    plt.legend(['Train', 'Validation'])"
   ]
  },
  {
   "cell_type": "code",
   "execution_count": 12,
   "id": "e31aabff",
   "metadata": {
    "execution": {
     "iopub.execute_input": "2022-09-21T23:42:33.138151Z",
     "iopub.status.busy": "2022-09-21T23:42:33.137865Z",
     "iopub.status.idle": "2022-09-21T23:42:33.145116Z",
     "shell.execute_reply": "2022-09-21T23:42:33.144093Z"
    },
    "papermill": {
     "duration": 0.014747,
     "end_time": "2022-09-21T23:42:33.146893",
     "exception": false,
     "start_time": "2022-09-21T23:42:33.132146",
     "status": "completed"
    },
    "tags": []
   },
   "outputs": [],
   "source": [
    "# Test model on test data\n",
    "def test(model):\n",
    "    model.load_state_dict(torch.load(PATH)) \n",
    "    model = model.to(device)\n",
    "    predictions = []\n",
    "    targets = []\n",
    "    running_accuracy = 0.0\n",
    "    \n",
    "    with torch.no_grad():\n",
    "        for img, labels in test_dl:\n",
    "            img = img.to(device)\n",
    "            labels = labels.to(device)\n",
    "            output = model(img)\n",
    "            pred = torch.argmax(output, 1)\n",
    "            \n",
    "            # Calculate accuracy\n",
    "            \n",
    "            # For confusion matrix\n",
    "            # https://stackoverflow.com/questions/63647547/how-to-find-confusion-matrix-and-plot-it-for-image-classifier-in-pytorch\n",
    "            # convert to np array\n",
    "            pred = pred.detach().cpu().numpy()\n",
    "            labels = labels.detach().cpu().numpy()\n",
    "            \n",
    "            for i in range(len(pred)):\n",
    "                predictions.append(pred[i])\n",
    "                targets.append(labels[i])\n",
    "            \n",
    "    \n",
    "    return predictions, targets"
   ]
  },
  {
   "cell_type": "code",
   "execution_count": 13,
   "id": "6dad9a81",
   "metadata": {
    "execution": {
     "iopub.execute_input": "2022-09-21T23:42:33.158089Z",
     "iopub.status.busy": "2022-09-21T23:42:33.157290Z",
     "iopub.status.idle": "2022-09-21T23:42:33.164080Z",
     "shell.execute_reply": "2022-09-21T23:42:33.163210Z"
    },
    "papermill": {
     "duration": 0.014576,
     "end_time": "2022-09-21T23:42:33.166150",
     "exception": false,
     "start_time": "2022-09-21T23:42:33.151574",
     "status": "completed"
    },
    "tags": []
   },
   "outputs": [],
   "source": [
    "def cfm_class_report(predictions, targets):\n",
    "    # https://vitalflux.com/python-draw-confusion-matrix-matplotlib/\n",
    "    cfm = confusion_matrix(predictions, targets)\n",
    "    plt.matshow(cfm, cmap=plt.cm.Blues, alpha=0.3) #display array as matrix\n",
    "    for i in range(cfm.shape[0]):\n",
    "        for j in range(cfm.shape[1]):\n",
    "            plt.text(x=j, y=i, s=cfm[i, j], va='center', ha='center')\n",
    "    plt.xlabel('Predictions')\n",
    "    plt.ylabel('Actual')\n",
    "    plt.title('Test Confusion Matrix')\n",
    "    \n",
    "    print(classification_report(targets, predictions, target_names=['Adult', 'Child']))\n",
    "    #print(cfm) # in array form"
   ]
  },
  {
   "cell_type": "code",
   "execution_count": 14,
   "id": "3c245341",
   "metadata": {
    "execution": {
     "iopub.execute_input": "2022-09-21T23:42:33.176836Z",
     "iopub.status.busy": "2022-09-21T23:42:33.176520Z",
     "iopub.status.idle": "2022-09-21T23:45:23.396863Z",
     "shell.execute_reply": "2022-09-21T23:45:23.395489Z"
    },
    "papermill": {
     "duration": 170.228941,
     "end_time": "2022-09-21T23:45:23.399801",
     "exception": false,
     "start_time": "2022-09-21T23:42:33.170860",
     "status": "completed"
    },
    "tags": []
   },
   "outputs": [
    {
     "name": "stdout",
     "output_type": "stream",
     "text": [
      "[1/25], Training Loss is: 0.691, Validation Loss is: 0.697,Accuracy is 54.706\n",
      "[2/25], Training Loss is: 0.654, Validation Loss is: 0.623,Accuracy is 61.176\n",
      "[3/25], Training Loss is: 0.614, Validation Loss is: 0.622,Accuracy is 67.647\n",
      "[4/25], Training Loss is: 0.568, Validation Loss is: 0.587,Accuracy is 67.647\n",
      "[5/25], Training Loss is: 0.540, Validation Loss is: 0.631,Accuracy is 69.412\n",
      "[6/25], Training Loss is: 0.509, Validation Loss is: 0.518,Accuracy is 74.706\n",
      "[7/25], Training Loss is: 0.479, Validation Loss is: 0.564,Accuracy is 75.882\n",
      "[8/25], Training Loss is: 0.509, Validation Loss is: 0.485,Accuracy is 77.059\n",
      "[9/25], Training Loss is: 0.452, Validation Loss is: 0.493,Accuracy is 74.706\n",
      "[10/25], Training Loss is: 0.434, Validation Loss is: 0.523,Accuracy is 69.412\n",
      "[11/25], Training Loss is: 0.432, Validation Loss is: 0.516,Accuracy is 71.765\n",
      "[12/25], Training Loss is: 0.416, Validation Loss is: 0.514,Accuracy is 74.118\n",
      "[13/25], Training Loss is: 0.403, Validation Loss is: 0.621,Accuracy is 70.588\n",
      "[14/25], Training Loss is: 0.389, Validation Loss is: 0.466,Accuracy is 77.059\n",
      "[15/25], Training Loss is: 0.375, Validation Loss is: 0.484,Accuracy is 76.471\n",
      "[16/25], Training Loss is: 0.398, Validation Loss is: 0.446,Accuracy is 78.824\n",
      "[17/25], Training Loss is: 0.329, Validation Loss is: 0.410,Accuracy is 78.824\n",
      "[18/25], Training Loss is: 0.337, Validation Loss is: 0.621,Accuracy is 71.765\n",
      "[19/25], Training Loss is: 0.362, Validation Loss is: 0.420,Accuracy is 78.824\n",
      "[20/25], Training Loss is: 0.323, Validation Loss is: 0.547,Accuracy is 76.471\n",
      "[21/25], Training Loss is: 0.307, Validation Loss is: 0.470,Accuracy is 78.235\n",
      "[22/25], Training Loss is: 0.309, Validation Loss is: 0.479,Accuracy is 78.235\n",
      "[23/25], Training Loss is: 0.349, Validation Loss is: 0.509,Accuracy is 75.294\n",
      "[24/25], Training Loss is: 0.291, Validation Loss is: 0.691,Accuracy is 69.412\n",
      "[25/25], Training Loss is: 0.285, Validation Loss is: 0.504,Accuracy is 75.294\n",
      "              precision    recall  f1-score   support\n",
      "\n",
      "       Adult       0.73      0.78      0.76        60\n",
      "       Child       0.77      0.72      0.74        60\n",
      "\n",
      "    accuracy                           0.75       120\n",
      "   macro avg       0.75      0.75      0.75       120\n",
      "weighted avg       0.75      0.75      0.75       120\n",
      "\n"
     ]
    },
    {
     "data": {
      "image/png": "[encoded data removed]",
      "text/plain": [
       "<Figure size 432x288 with 1 Axes>"
      ]
     },
     "metadata": {
      "needs_background": "light"
     },
     "output_type": "display_data"
    },
    {
     "data": {
      "image/png": "[encoded data removed]",
      "text/plain": [
       "<Figure size 288x288 with 1 Axes>"
      ]
     },
     "metadata": {
      "needs_background": "light"
     },
     "output_type": "display_data"
    }
   ],
   "source": [
    "if __name__ == \"__main__\":\n",
    "    train_loss, val_loss = train(resnet18)\n",
    "    plt_loss(train_loss, val_loss)\n",
    "    predictions, targets = test(resnet18)\n",
    "    cfm_class_report(predictions, targets)"
   ]
  }
 ],
 "metadata": {
  "kernelspec": {
   "display_name": "Python 3",
   "language": "python",
   "name": "python3"
  },
  "language_info": {
   "codemirror_mode": {
    "name": "ipython",
    "version": 3
   },
   "file_extension": ".py",
   "mimetype": "text/x-python",
   "name": "python",
   "nbconvert_exporter": "python",
   "pygments_lexer": "ipython3",
   "version": "3.7.12"
  },
  "papermill": {
   "default_parameters": {},
   "duration": 188.077603,
   "end_time": "2022-09-21T23:45:24.850823",
   "environment_variables": {},
   "exception": null,
   "input_path": "__notebook__.ipynb",
   "output_path": "__notebook__.ipynb",
   "parameters": {},
   "start_time": "2022-09-21T23:42:16.773220",
   "version": "2.3.4"
  },
  "widgets": {
   "application/vnd.jupyter.widget-state+json": {
    "state": {
     "29cb4d2637fc42b2884c6e73c2df5dc7": {
      "model_module": "@jupyter-widgets/controls",
      "model_module_version": "1.5.0",
      "model_name": "DescriptionStyleModel",
      "state": {
       "_model_module": "@jupyter-widgets/controls",
       "_model_module_version": "1.5.0",
       "_model_name": "DescriptionStyleModel",
       "_view_count": null,
       "_view_module": "@jupyter-widgets/base",
       "_view_module_version": "1.2.0",
       "_view_name": "StyleView",
       "description_width": ""
      }
     },
     "38dcdc21a4ef4a2fa67f4ca484eb9ad2": {
      "model_module": "@jupyter-widgets/base",
      "model_module_version": "1.2.0",
      "model_name": "LayoutModel",
      "state": {
       "_model_module": "@jupyter-widgets/base",
       "_model_module_version": "1.2.0",
       "_model_name": "LayoutModel",
       "_view_count": null,
       "_view_module": "@jupyter-widgets/base",
       "_view_module_version": "1.2.0",
       "_view_name": "LayoutView",
       "align_content": null,
       "align_items": null,
       "align_self": null,
       "border": null,
       "bottom": null,
       "display": null,
       "flex": null,
       "flex_flow": null,
       "grid_area": null,
       "grid_auto_columns": null,
       "grid_auto_flow": null,
       "grid_auto_rows": null,
       "grid_column": null,
       "grid_gap": null,
       "grid_row": null,
       "grid_template_areas": null,
       "grid_template_columns": null,
       "grid_template_rows": null,
       "height": null,
       "justify_content": null,
       "justify_items": null,
       "left": null,
       "margin": null,
       "max_height": null,
       "max_width": null,
       "min_height": null,
       "min_width": null,
       "object_fit": null,
       "object_position": null,
       "order": null,
       "overflow": null,
       "overflow_x": null,
       "overflow_y": null,
       "padding": null,
       "right": null,
       "top": null,
       "visibility": null,
       "width": null
      }
     },
     "4a77ae33328b45919d87c4f700390cf8": {
      "model_module": "@jupyter-widgets/controls",
      "model_module_version": "1.5.0",
      "model_name": "DescriptionStyleModel",
      "state": {
       "_model_module": "@jupyter-widgets/controls",
       "_model_module_version": "1.5.0",
       "_model_name": "DescriptionStyleModel",
       "_view_count": null,
       "_view_module": "@jupyter-widgets/base",
       "_view_module_version": "1.2.0",
       "_view_name": "StyleView",
       "description_width": ""
      }
     },
     "522e4c5990ce4c4cb50c44c31c9d88d0": {
      "model_module": "@jupyter-widgets/controls",
      "model_module_version": "1.5.0",
      "model_name": "ProgressStyleModel",
      "state": {
       "_model_module": "@jupyter-widgets/controls",
       "_model_module_version": "1.5.0",
       "_model_name": "ProgressStyleModel",
       "_view_count": null,
       "_view_module": "@jupyter-widgets/base",
       "_view_module_version": "1.2.0",
       "_view_name": "StyleView",
       "bar_color": null,
       "description_width": ""
      }
     },
     "705ed7ae6bcd410a95e543d10ea967f3": {
      "model_module": "@jupyter-widgets/base",
      "model_module_version": "1.2.0",
      "model_name": "LayoutModel",
      "state": {
       "_model_module": "@jupyter-widgets/base",
       "_model_module_version": "1.2.0",
       "_model_name": "LayoutModel",
       "_view_count": null,
       "_view_module": "@jupyter-widgets/base",
       "_view_module_version": "1.2.0",
       "_view_name": "LayoutView",
       "align_content": null,
       "align_items": null,
       "align_self": null,
       "border": null,
       "bottom": null,
       "display": null,
       "flex": null,
       "flex_flow": null,
       "grid_area": null,
       "grid_auto_columns": null,
       "grid_auto_flow": null,
       "grid_auto_rows": null,
       "grid_column": null,
       "grid_gap": null,
       "grid_row": null,
       "grid_template_areas": null,
       "grid_template_columns": null,
       "grid_template_rows": null,
       "height": null,
       "justify_content": null,
       "justify_items": null,
       "left": null,
       "margin": null,
       "max_height": null,
       "max_width": null,
       "min_height": null,
       "min_width": null,
       "object_fit": null,
       "object_position": null,
       "order": null,
       "overflow": null,
       "overflow_x": null,
       "overflow_y": null,
       "padding": null,
       "right": null,
       "top": null,
       "visibility": null,
       "width": null
      }
     },
     "7be2389ee06244868e25f8ca657ae1a2": {
      "model_module": "@jupyter-widgets/controls",
      "model_module_version": "1.5.0",
      "model_name": "HTMLModel",
      "state": {
       "_dom_classes": [],
       "_model_module": "@jupyter-widgets/controls",
       "_model_module_version": "1.5.0",
       "_model_name": "HTMLModel",
       "_view_count": null,
       "_view_module": "@jupyter-widgets/controls",
       "_view_module_version": "1.5.0",
       "_view_name": "HTMLView",
       "description": "",
       "description_tooltip": null,
       "layout": "IPY_MODEL_38dcdc21a4ef4a2fa67f4ca484eb9ad2",
       "placeholder": "​",
       "style": "IPY_MODEL_29cb4d2637fc42b2884c6e73c2df5dc7",
       "value": " 44.7M/44.7M [00:04&lt;00:00, 16.3MB/s]"
      }
     },
     "b1d25309532744e3891063166fb4f297": {
      "model_module": "@jupyter-widgets/controls",
      "model_module_version": "1.5.0",
      "model_name": "HBoxModel",
      "state": {
       "_dom_classes": [],
       "_model_module": "@jupyter-widgets/controls",
       "_model_module_version": "1.5.0",
       "_model_name": "HBoxModel",
       "_view_count": null,
       "_view_module": "@jupyter-widgets/controls",
       "_view_module_version": "1.5.0",
       "_view_name": "HBoxView",
       "box_style": "",
       "children": [
        "IPY_MODEL_dabb0616cc454153bb3f496650690864",
        "IPY_MODEL_c7297625e80049a9a186e1862a3260df",
        "IPY_MODEL_7be2389ee06244868e25f8ca657ae1a2"
       ],
       "layout": "IPY_MODEL_705ed7ae6bcd410a95e543d10ea967f3"
      }
     },
     "bdb15572f36f42d8a558beb43138c441": {
      "model_module": "@jupyter-widgets/base",
      "model_module_version": "1.2.0",
      "model_name": "LayoutModel",
      "state": {
       "_model_module": "@jupyter-widgets/base",
       "_model_module_version": "1.2.0",
       "_model_name": "LayoutModel",
       "_view_count": null,
       "_view_module": "@jupyter-widgets/base",
       "_view_module_version": "1.2.0",
       "_view_name": "LayoutView",
       "align_content": null,
       "align_items": null,
       "align_self": null,
       "border": null,
       "bottom": null,
       "display": null,
       "flex": null,
       "flex_flow": null,
       "grid_area": null,
       "grid_auto_columns": null,
       "grid_auto_flow": null,
       "grid_auto_rows": null,
       "grid_column": null,
       "grid_gap": null,
       "grid_row": null,
       "grid_template_areas": null,
       "grid_template_columns": null,
       "grid_template_rows": null,
       "height": null,
       "justify_content": null,
       "justify_items": null,
       "left": null,
       "margin": null,
       "max_height": null,
       "max_width": null,
       "min_height": null,
       "min_width": null,
       "object_fit": null,
       "object_position": null,
       "order": null,
       "overflow": null,
       "overflow_x": null,
       "overflow_y": null,
       "padding": null,
       "right": null,
       "top": null,
       "visibility": null,
       "width": null
      }
     },
     "c7297625e80049a9a186e1862a3260df": {
      "model_module": "@jupyter-widgets/controls",
      "model_module_version": "1.5.0",
      "model_name": "FloatProgressModel",
      "state": {
       "_dom_classes": [],
       "_model_module": "@jupyter-widgets/controls",
       "_model_module_version": "1.5.0",
       "_model_name": "FloatProgressModel",
       "_view_count": null,
       "_view_module": "@jupyter-widgets/controls",
       "_view_module_version": "1.5.0",
       "_view_name": "ProgressView",
       "bar_style": "success",
       "description": "",
       "description_tooltip": null,
       "layout": "IPY_MODEL_dd85848b3d104eefbb386900ea2975d6",
       "max": 46830571.0,
       "min": 0.0,
       "orientation": "horizontal",
       "style": "IPY_MODEL_522e4c5990ce4c4cb50c44c31c9d88d0",
       "value": 46830571.0
      }
     },
     "dabb0616cc454153bb3f496650690864": {
      "model_module": "@jupyter-widgets/controls",
      "model_module_version": "1.5.0",
      "model_name": "HTMLModel",
      "state": {
       "_dom_classes": [],
       "_model_module": "@jupyter-widgets/controls",
       "_model_module_version": "1.5.0",
       "_model_name": "HTMLModel",
       "_view_count": null,
       "_view_module": "@jupyter-widgets/controls",
       "_view_module_version": "1.5.0",
       "_view_name": "HTMLView",
       "description": "",
       "description_tooltip": null,
       "layout": "IPY_MODEL_bdb15572f36f42d8a558beb43138c441",
       "placeholder": "​",
       "style": "IPY_MODEL_4a77ae33328b45919d87c4f700390cf8",
       "value": "100%"
      }
     },
     "dd85848b3d104eefbb386900ea2975d6": {
      "model_module": "@jupyter-widgets/base",
      "model_module_version": "1.2.0",
      "model_name": "LayoutModel",
      "state": {
       "_model_module": "@jupyter-widgets/base",
       "_model_module_version": "1.2.0",
       "_model_name": "LayoutModel",
       "_view_count": null,
       "_view_module": "@jupyter-widgets/base",
       "_view_module_version": "1.2.0",
       "_view_name": "LayoutView",
       "align_content": null,
       "align_items": null,
       "align_self": null,
       "border": null,
       "bottom": null,
       "display": null,
       "flex": null,
       "flex_flow": null,
       "grid_area": null,
       "grid_auto_columns": null,
       "grid_auto_flow": null,
       "grid_auto_rows": null,
       "grid_column": null,
       "grid_gap": null,
       "grid_row": null,
       "grid_template_areas": null,
       "grid_template_columns": null,
       "grid_template_rows": null,
       "height": null,
       "justify_content": null,
       "justify_items": null,
       "left": null,
       "margin": null,
       "max_height": null,
       "max_width": null,
       "min_height": null,
       "min_width": null,
       "object_fit": null,
       "object_position": null,
       "order": null,
       "overflow": null,
       "overflow_x": null,
       "overflow_y": null,
       "padding": null,
       "right": null,
       "top": null,
       "visibility": null,
       "width": null
      }
     }
    },
    "version_major": 2,
    "version_minor": 0
   }
  }
 },
 "nbformat": 4,
 "nbformat_minor": 5
}
